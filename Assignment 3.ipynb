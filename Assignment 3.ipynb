{
 "cells": [
  {
   "cell_type": "markdown",
   "metadata": {},
   "source": [
    "# Assignment 3"
   ]
  },
  {
   "cell_type": "markdown",
   "metadata": {},
   "source": [
    "### Write a function to count the number 4 in a given list."
   ]
  },
  {
   "cell_type": "code",
   "execution_count": null,
   "metadata": {},
   "outputs": [],
   "source": [
    "def count (list_1) :\n",
    "    countt=list_1.count(4)\n",
    "    print(countt)\n",
    "\n",
    "\n",
    "list_1=[1,3,5,4,5,4,2,9,8,4]\n",
    "count(list_1)"
   ]
  },
  {
   "cell_type": "markdown",
   "metadata": {},
   "source": [
    "### write a  function to check whether a number is divisible by another number."
   ]
  },
  {
   "cell_type": "code",
   "execution_count": null,
   "metadata": {},
   "outputs": [],
   "source": [
    "def div (x,y):\n",
    "    if x%y == 0:\n",
    "        print(f'{x} is divisible by {y}')\n",
    "    else:\n",
    "        print(str(x)+\" is  not divisible by \"+ str(y))\n",
    "div(6,2)"
   ]
  },
  {
   "cell_type": "markdown",
   "metadata": {},
   "source": [
    "### write a function to find the maximum and minimum numbers from a sequence of numbers."
   ]
  },
  {
   "cell_type": "code",
   "execution_count": null,
   "metadata": {},
   "outputs": [],
   "source": [
    "def max_min(nums):\n",
    "    min_value= max_value=nums[0]\n",
    "    \n",
    "    for i in nums :\n",
    "        if i<min_value :\n",
    "            min_value=i\n",
    "            \n",
    "        if i>max_value :\n",
    "            max_value=i \n",
    "    return max_value , min_value\n",
    "        \n",
    "nums=[1,3,5,9,14,15,20,30,100,-9,0]\n",
    "print(max_min(nums))\n",
    "print(max(nums))\n",
    "print(min(nums))"
   ]
  },
  {
   "cell_type": "markdown",
   "metadata": {},
   "source": [
    "### Write a Python function that takes two lists and returns True if they have at least one common member."
   ]
  },
  {
   "cell_type": "code",
   "execution_count": null,
   "metadata": {},
   "outputs": [],
   "source": [
    "def max_min(nums1,nums2):\n",
    "    for i in nums1:\n",
    "        for j in nums2:\n",
    "            if i==j :\n",
    "                print(\"true\")\n",
    "                return\n",
    "            else:\n",
    "                print(\"false\")\n",
    "    \n",
    "\n",
    "\n",
    "nums1=[1,3,5,9,14,15,20,30,100,-9,0]\n",
    "nums2=[1,3,5,4,5,4,2,9,8,4]\n",
    "max_min(nums1,nums2)\n",
    "#x= set(nums1)&set(nums2)\n",
    "#if len(x)==0:\n",
    "#   print(\"false\")\n",
    "#else:\n",
    "#   print(\"true\")\n",
    "    "
   ]
  },
  {
   "cell_type": "markdown",
   "metadata": {},
   "source": [
    "### Write a Python function to calculate the factorial of a number (a non-negative integer). The function accepts the number from the user"
   ]
  },
  {
   "cell_type": "code",
   "execution_count": null,
   "metadata": {},
   "outputs": [],
   "source": [
    "def factorial(num):\n",
    "    if num == 0:\n",
    "        return 1\n",
    "    else:\n",
    "        return num * factorial(num - 1)\n",
    "\n",
    "    \n",
    "x=int(input(\"Please enter a number: \"))   \n",
    "print(\"factorial of a number is:\", factorial(x))"
   ]
  },
  {
   "cell_type": "markdown",
   "metadata": {},
   "source": [
    "### Write a Python function to check whether a number is in a given range.\n",
    "\n",
    "### The range is from 3 to 11\n"
   ]
  },
  {
   "cell_type": "code",
   "execution_count": null,
   "metadata": {},
   "outputs": [],
   "source": [
    "def ran(x):\n",
    "    for i in range(3,12):\n",
    "        if x==i :\n",
    "            print(\"in range\")\n",
    "            return\n",
    "        \n",
    "x=4\n",
    "ran(x)"
   ]
  },
  {
   "cell_type": "markdown",
   "metadata": {},
   "source": [
    "Write a  program to create the multiplication table (from 1 to 10) of a number."
   ]
  },
  {
   "cell_type": "code",
   "execution_count": null,
   "metadata": {},
   "outputs": [],
   "source": [
    "X = int(input())\n",
    "\n",
    "for i in range(1,11):\n",
    "    print(f'{X} * {i} = {X * i}')\n",
    "    \n"
   ]
  },
  {
   "cell_type": "markdown",
   "metadata": {},
   "source": [
    "#### LESSER OF TWO EVENS: Write a function that returns the lesser of two given numbers *if* both numbers are even, but returns the greater if one or both numbers are odd\n",
    "    lesser_of_two_evens(2,4) --> 2\n",
    "    lesser_of_two_evens(2,5) --> 5"
   ]
  },
  {
   "cell_type": "code",
   "execution_count": null,
   "metadata": {},
   "outputs": [],
   "source": [
    "def lesser_of_two_evens(x,y):\n",
    "    if x %2==0 and y%2==0 :\n",
    "        if x>y:\n",
    "            print(y)\n",
    "        elif x<y :\n",
    "            print(x)\n",
    "        else:\n",
    "            print(\"both equal\")\n",
    "    else:\n",
    "        \n",
    "        if x>y:\n",
    "            print(x)\n",
    "        elif x<y :\n",
    "            print(y)\n",
    "        else:\n",
    "            print(\"both equal\")\n",
    "        \n",
    "            \n",
    "lesser_of_two_evens(2,5) "
   ]
  },
  {
   "cell_type": "markdown",
   "metadata": {},
   "source": [
    "#### ANIMAL CRACKERS: Write a function takes a two-word string and returns True if both words begin with same letter\n",
    "    animal_crackers('Levelheaded Llama') --> True\n",
    "    animal_crackers('Crazy Kangaroo') --> False"
   ]
  },
  {
   "cell_type": "code",
   "execution_count": 33,
   "metadata": {},
   "outputs": [
    {
     "name": "stdout",
     "output_type": "stream",
     "text": [
      "true\n"
     ]
    }
   ],
   "source": [
    "def start_s(num1,num2):\n",
    "    if num1[0]== num2[0]:\n",
    "        print(\"true\")\n",
    "    \n",
    "    \n",
    "    \n",
    "    \n",
    "num1=\"mohamed\"\n",
    "num2=\"murad\"\n",
    "start_s(num1,num2)"
   ]
  },
  {
   "cell_type": "markdown",
   "metadata": {},
   "source": [
    "#### MAKES TWENTY: Given two integers, return True if the sum of the integers is 20 *or* if one of the integers is 20. If not, return False\n",
    "\n",
    "    makes_twenty(20,10) --> True\n",
    "    makes_twenty(12,8) --> True\n",
    "    makes_twenty(2,3) --> False"
   ]
  },
  {
   "cell_type": "code",
   "execution_count": 35,
   "metadata": {},
   "outputs": [
    {
     "name": "stdout",
     "output_type": "stream",
     "text": [
      "false\n"
     ]
    }
   ],
   "source": [
    "def Twenty(x,y): \n",
    "    if x+y==20:\n",
    "        print(\"true\")\n",
    "    elif x==20 or y==20:\n",
    "        print(\"true\")\n",
    "    else :\n",
    "        print(\"false\")\n",
    "        \n",
    "        \n",
    "        \n",
    "        \n",
    "Twenty(2,3)"
   ]
  },
  {
   "cell_type": "markdown",
   "metadata": {},
   "source": [
    "#### ALMOST THERE: Given an integer n, return True if n is within 10 of either 100 or 200\n",
    "\n",
    "    almost_there(90) --> True\n",
    "    almost_there(104) --> True\n",
    "    almost_there(150) --> False\n",
    "    almost_there(209) --> True\n",
    "    \n",
    "NOTE: `abs(num)` returns the absolute value of a number"
   ]
  },
  {
   "cell_type": "code",
   "execution_count": 42,
   "metadata": {},
   "outputs": [
    {
     "data": {
      "text/plain": [
       "'false'"
      ]
     },
     "execution_count": 42,
     "metadata": {},
     "output_type": "execute_result"
    }
   ],
   "source": [
    "def within(x):\n",
    "    if x>89 and x<111:\n",
    "        return \"true\"\n",
    "    if x>189 and x<211:\n",
    "        return \"true\" \n",
    "    else:\n",
    "        return \"false\"\n",
    "        \n",
    "x=104\n",
    "within(150)"
   ]
  },
  {
   "cell_type": "markdown",
   "metadata": {},
   "source": [
    "#### BLACKJACK: Given three integers between 1 and 11, if their sum is less than or equal to 21, return their sum. If their sum exceeds 21 *and* there's an eleven, reduce the total sum by 10. Finally, if the sum  exceeds 21, return 'BUST'\n",
    "    blackjack(5,6,7) --> 18\n",
    "    blackjack(9,9,9) --> 'BUST'\n",
    "    blackjack(9,9,11) --> 19"
   ]
  },
  {
   "cell_type": "code",
   "execution_count": 46,
   "metadata": {},
   "outputs": [
    {
     "data": {
      "text/plain": [
       "'bust'"
      ]
     },
     "execution_count": 46,
     "metadata": {},
     "output_type": "execute_result"
    }
   ],
   "source": [
    "def blackjack(x,y,z):\n",
    "    sum=x+y+z\n",
    "    if sum< 22 :\n",
    "        return sum \n",
    "    else:\n",
    "        if x>10 or y>10 or z>10:\n",
    "            return sum-10\n",
    "        else:\n",
    "            return \"bust\"\n",
    "\n",
    "blackjack(9,9,9)      \n"
   ]
  }
 ],
 "metadata": {
  "kernelspec": {
   "display_name": "Python 3 (ipykernel)",
   "language": "python",
   "name": "python3"
  },
  "language_info": {
   "codemirror_mode": {
    "name": "ipython",
    "version": 3
   },
   "file_extension": ".py",
   "mimetype": "text/x-python",
   "name": "python",
   "nbconvert_exporter": "python",
   "pygments_lexer": "ipython3",
   "version": "3.9.12"
  }
 },
 "nbformat": 4,
 "nbformat_minor": 2
}
